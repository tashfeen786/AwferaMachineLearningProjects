{
 "cells": [
  {
   "cell_type": "code",
   "execution_count": 1,
   "id": "6555a351-3dbf-4dc1-aa41-e50c8ef2824f",
   "metadata": {},
   "outputs": [
    {
     "name": "stdout",
     "output_type": "stream",
     "text": [
      "Dataset Information\n",
      "<class 'pandas.core.frame.DataFrame'>\n",
      "RangeIndex: 768 entries, 0 to 767\n",
      "Data columns (total 9 columns):\n",
      " #   Column                    Non-Null Count  Dtype  \n",
      "---  ------                    --------------  -----  \n",
      " 0   Pregnancies               768 non-null    int64  \n",
      " 1   Glucose                   768 non-null    int64  \n",
      " 2   BloodPressure             768 non-null    int64  \n",
      " 3   SkinThickness             768 non-null    int64  \n",
      " 4   Insulin                   768 non-null    int64  \n",
      " 5   BMI                       768 non-null    float64\n",
      " 6   DiabetesPedigreeFunction  768 non-null    float64\n",
      " 7   Age                       768 non-null    int64  \n",
      " 8   Outcome                   768 non-null    int64  \n",
      "dtypes: float64(2), int64(7)\n",
      "memory usage: 54.1 KB\n",
      "None\n"
     ]
    }
   ],
   "source": [
    "# Step 1: Load the dataset\n",
    "import pandas as pd \n",
    "from sklearn.preprocessing import StandardScaler\n",
    "from sklearn.model_selection import train_test_split\n",
    "from sklearn.tree import DecisionTreeClassifier\n",
    "from sklearn.metrics import accuracy_score, classification_report, confusion_matrix\n",
    "\n",
    "\n",
    "# Load the dataset \n",
    "file_path = \"F:\\\\AWFERA\\\\Machine learning\\\\Practices\\\\diabetes.csv\"\n",
    "df = pd.read_csv(file_path)\n",
    "\n",
    "\n",
    "#Display basic information\n",
    "print(\"Dataset Information\")\n",
    "print(df.info())\n"
   ]
  },
  {
   "cell_type": "code",
   "execution_count": 2,
   "id": "9a320d69-b9d6-4985-a694-11e4303f8f4f",
   "metadata": {},
   "outputs": [
    {
     "name": "stdout",
     "output_type": "stream",
     "text": [
      "\n",
      "Checking for missing values:\n",
      "Pregnancies                 0\n",
      "Glucose                     0\n",
      "BloodPressure               0\n",
      "SkinThickness               0\n",
      "Insulin                     0\n",
      "BMI                         0\n",
      "DiabetesPedigreeFunction    0\n",
      "Age                         0\n",
      "Outcome                     0\n",
      "dtype: int64\n"
     ]
    }
   ],
   "source": [
    "# Step 2: Handle Missing Values\n",
    "print(\"\\nChecking for missing values:\")\n",
    "print(df.isnull().sum())\n",
    "\n",
    "# Fill missing numerical values with the median\n",
    "\n",
    "df.fillna(df.median(numeric_only = True), inplace = True)\n",
    "\n",
    "#Fill missing categorical values with the mode (if any)\n",
    "\n",
    "for col in df.select_dtypes(include = ['object']):\n",
    "    df[col].fillna(df[col].mode()[0], inpplace = True)"
   ]
  },
  {
   "cell_type": "code",
   "execution_count": 7,
   "id": "08a7ade3-27e1-4fbf-91e4-1bad9772d898",
   "metadata": {},
   "outputs": [
    {
     "name": "stdout",
     "output_type": "stream",
     "text": [
      "\n",
      "Training Decision Traa Classifier........\n",
      "\n",
      "Model Accuracy: 0.70\n",
      "\n",
      "Classification Report\n"
     ]
    },
    {
     "ename": "NameError",
     "evalue": "name 'clasification_report' is not defined",
     "output_type": "error",
     "traceback": [
      "\u001b[1;31m---------------------------------------------------------------------------\u001b[0m",
      "\u001b[1;31mNameError\u001b[0m                                 Traceback (most recent call last)",
      "Cell \u001b[1;32mIn[7], line 29\u001b[0m\n\u001b[0;32m     27\u001b[0m \u001b[38;5;66;03m#Classification report\u001b[39;00m\n\u001b[0;32m     28\u001b[0m \u001b[38;5;28mprint\u001b[39m(\u001b[38;5;124m\"\u001b[39m\u001b[38;5;130;01m\\n\u001b[39;00m\u001b[38;5;124mClassification Report\u001b[39m\u001b[38;5;124m\"\u001b[39m)\n\u001b[1;32m---> 29\u001b[0m \u001b[38;5;28mprint\u001b[39m(\u001b[43mclasification_report\u001b[49m(y_test, y_pred))\n\u001b[0;32m     31\u001b[0m \u001b[38;5;66;03m# Confusion Matrix\u001b[39;00m\n\u001b[0;32m     32\u001b[0m \u001b[38;5;28mprint\u001b[39m(\u001b[38;5;124m\"\u001b[39m\u001b[38;5;130;01m\\n\u001b[39;00m\u001b[38;5;124mConfusion Matrix:\u001b[39m\u001b[38;5;124m\"\u001b[39m)\n",
      "\u001b[1;31mNameError\u001b[0m: name 'clasification_report' is not defined"
     ]
    }
   ],
   "source": [
    "# Step 3: Prepare Data\n",
    "# Separate features and Target variable\n",
    "\n",
    "x = df.drop(columns = ['Outcome'])\n",
    "y = df['Outcome']\n",
    "\n",
    "# Step 4: Apply standard Scaling\n",
    "scler = StandardScaler()\n",
    "x_scaled = scler.fit_transform(x)\n",
    "\n",
    "#Step 5: Split Data into training and testing sets\n",
    "x_train, x_test, y_train, y_test = train_test_split(x_scaled, y, test_size = 0.3, random_state=42)\n",
    "# Step 6: Train a Decision Tree Classifier\n",
    "\n",
    "print(\"\\nTraining Decision Traa Classifier........\")\n",
    "model = DecisionTreeClassifier(random_state = 42)\n",
    "model.fit(x_train, y_train)\n",
    "\n",
    "# Step 7: model Evaluation \n",
    "# predict on test data\n",
    "y_pred = model.predict(x_test)\n",
    "\n",
    "# Calculate accuracy\n",
    "accuracy = accuracy_score(y_test, y_pred)\n",
    "print(f\"\\nModel Accuracy: {accuracy:.2f}\")\n",
    "\n",
    "#Classification report\n",
    "print(\"\\nClassification Report\")\n",
    "print(clasification_report(y_test, y_pred))\n",
    "\n",
    "# Confusion Matrix\n",
    "print(\"\\nConfusion Matrix:\")\n",
    "print(confusion_matrix(y_test, y_pred))\n"
   ]
  },
  {
   "cell_type": "code",
   "execution_count": null,
   "id": "9f4e807e-2129-42a5-ba47-24a9d9ee9ce5",
   "metadata": {},
   "outputs": [],
   "source": []
  }
 ],
 "metadata": {
  "kernelspec": {
   "display_name": "Python 3 (ipykernel)",
   "language": "python",
   "name": "python3"
  },
  "language_info": {
   "codemirror_mode": {
    "name": "ipython",
    "version": 3
   },
   "file_extension": ".py",
   "mimetype": "text/x-python",
   "name": "python",
   "nbconvert_exporter": "python",
   "pygments_lexer": "ipython3",
   "version": "3.11.7"
  }
 },
 "nbformat": 4,
 "nbformat_minor": 5
}
