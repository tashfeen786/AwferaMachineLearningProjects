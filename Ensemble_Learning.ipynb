{
 "cells": [
  {
   "cell_type": "code",
   "execution_count": 2,
   "id": "c8fb895f-eea6-4283-9b05-46050811c854",
   "metadata": {},
   "outputs": [
    {
     "name": "stdout",
     "output_type": "stream",
     "text": [
      "Dataset Information:\n",
      "<class 'pandas.core.frame.DataFrame'>\n",
      "RangeIndex: 768 entries, 0 to 767\n",
      "Data columns (total 9 columns):\n",
      " #   Column                    Non-Null Count  Dtype  \n",
      "---  ------                    --------------  -----  \n",
      " 0   Pregnancies               768 non-null    int64  \n",
      " 1   Glucose                   768 non-null    int64  \n",
      " 2   BloodPressure             768 non-null    int64  \n",
      " 3   SkinThickness             768 non-null    int64  \n",
      " 4   Insulin                   768 non-null    int64  \n",
      " 5   BMI                       768 non-null    float64\n",
      " 6   DiabetesPedigreeFunction  768 non-null    float64\n",
      " 7   Age                       768 non-null    int64  \n",
      " 8   Outcome                   768 non-null    int64  \n",
      "dtypes: float64(2), int64(7)\n",
      "memory usage: 54.1 KB\n",
      "None\n",
      "\n",
      "First 5 rows: \n",
      "   Pregnancies  Glucose  BloodPressure  SkinThickness  Insulin   BMI  \\\n",
      "0            6      148             72             35        0  33.6   \n",
      "1            1       85             66             29        0  26.6   \n",
      "2            8      183             64              0        0  23.3   \n",
      "3            1       89             66             23       94  28.1   \n",
      "4            0      137             40             35      168  43.1   \n",
      "\n",
      "   DiabetesPedigreeFunction  Age  Outcome  \n",
      "0                     0.627   50        1  \n",
      "1                     0.351   31        0  \n",
      "2                     0.672   32        1  \n",
      "3                     0.167   21        0  \n",
      "4                     2.288   33        1  \n"
     ]
    }
   ],
   "source": [
    "# Ensemble Learning\n",
    "\n",
    "#Step 1: Load the Dataset\n",
    "import pandas as pd\n",
    "from sklearn.preprocessing import StandardScaler\n",
    "from sklearn.model_selection import train_test_split\n",
    "\n",
    "from sklearn.metrics import accuracy_score, classification_report, confusion_matrix\n",
    "\n",
    "# Load the dataset\n",
    "file_path = \"F:\\\\AWFERA\\\\Machine learning\\\\AwferaMachineLearningProjects\\\\diabetes.csv\"\n",
    "df = pd.read_csv(file_path)\n",
    "\n",
    "#Display basic information\n",
    "print(\"Dataset Information:\")\n",
    "print(df.info())\n",
    "print(\"\\nFirst 5 rows: \")\n",
    "print(df.head())"
   ]
  },
  {
   "cell_type": "code",
   "execution_count": 3,
   "id": "ca91d848-5db4-4726-a9f3-3c99589614b7",
   "metadata": {},
   "outputs": [
    {
     "name": "stdout",
     "output_type": "stream",
     "text": [
      "\n",
      "Checking for missing values:\n",
      "Pregnancies                 0\n",
      "Glucose                     0\n",
      "BloodPressure               0\n",
      "SkinThickness               0\n",
      "Insulin                     0\n",
      "BMI                         0\n",
      "DiabetesPedigreeFunction    0\n",
      "Age                         0\n",
      "Outcome                     0\n",
      "dtype: int64\n"
     ]
    }
   ],
   "source": [
    "#Step 2: Handle Missing Values\n",
    "print(\"\\nChecking for missing values:\")\n",
    "print(df.isnull().sum())\n",
    "\n",
    "#Fill missing numerical values with median\n",
    "df.fillna(df.median(numeric_only = True), inplace = True)\n",
    "\n",
    "# Fill missing categorical values with the mode (if any)\n",
    "for col in df.select_dtypes(include=['object']):\n",
    "    df[col].fillna(df[col].mode()[0], inplace = True)\n"
   ]
  },
  {
   "cell_type": "code",
   "execution_count": 9,
   "id": "e482fee7-001d-4495-9fa5-0eeb6e48e21b",
   "metadata": {},
   "outputs": [
    {
     "name": "stdout",
     "output_type": "stream",
     "text": [
      "Bagging Accuracy:  0.7575757575757576\n"
     ]
    }
   ],
   "source": [
    " #Step 3: Prepare Data\n",
    " # Separate features and target variable\n",
    "x= df.drop(columns = ['Outcome'])\n",
    "y= df['Outcome']\n",
    "\n",
    "# Step 4: Apply Standard Scaling \n",
    "scaler = StandardScaler()\n",
    "x_scaled = scaler.fit_transform(x)\n",
    "\n",
    "# Step 5: Split Data into Training and Testing Sets\n",
    "x_train, x_test, y_train, y_test = train_test_split(x_scaled, y, test_size = 0.3, random_state = 42)\n",
    "\n",
    "# Step 6 (Modified): Train a support vector Machine Classifier\n",
    "from sklearn.ensemble import BaggingClassifier\n",
    "from sklearn.tree import DecisionTreeClassifier\n",
    "from sklearn.metrics import accuracy_score\n",
    "\n",
    "#Bagging model \n",
    "\n",
    "bagging_model = BaggingClassifier(estimator = DecisionTreeClassifier(), n_estimators = 10)\n",
    "bagging_model.fit(x_train, y_train)\n",
    "\n",
    "#Predicition and accuracy\n",
    "y_pred_bag = bagging_model.predict(x_test)\n",
    "print(\"Bagging Accuracy: \", accuracy_score(y_test, y_pred_bag))"
   ]
  },
  {
   "cell_type": "code",
   "execution_count": 11,
   "id": "7fefee6d-ee5d-476e-a840-108918769c46",
   "metadata": {},
   "outputs": [
    {
     "name": "stdout",
     "output_type": "stream",
     "text": [
      "Boosting Accuracy:  0.7489177489177489\n"
     ]
    }
   ],
   "source": [
    "from sklearn.ensemble import AdaBoostClassifier\n",
    "\n",
    "# Boosting model \n",
    "boosting_model= AdaBoostClassifier(n_estimators = 10)\n",
    "boosting_model.fit(x_train, y_train)\n",
    "\n",
    "# Prediction and accuracy \n",
    "y_pred_boost = boosting_model.predict(x_test)\n",
    "print(\"Boosting Accuracy: \", accuracy_score(y_test, y_pred_boost))\n",
    "\n"
   ]
  },
  {
   "cell_type": "code",
   "execution_count": 15,
   "id": "6614874f-ed37-4087-a833-f1482e0782d2",
   "metadata": {},
   "outputs": [
    {
     "name": "stdout",
     "output_type": "stream",
     "text": [
      "Stacking Accuracy:  0.7316017316017316\n"
     ]
    }
   ],
   "source": [
    "from sklearn.ensemble import StackingClassifier\n",
    "from sklearn.linear_model import LogisticRegression\n",
    "from sklearn.svm import SVC\n",
    "\n",
    "#Define base models \n",
    "base_models = [\n",
    "        ('tree', DecisionTreeClassifier()),\n",
    "        ('svm', SVC(probability = True))\n",
    "      ] \n",
    "\n",
    "#Meta-model is logistic regression\n",
    "stacking_model = StackingClassifier(estimators = base_models, final_estimator = LogisticRegression())\n",
    "stacking_model.fit(x_train, y_train)\n",
    "\n",
    "# Prediction and accuracy \n",
    "y_pred_stack = stacking_model.predict(x_test)\n",
    "print(\"Stacking Accuracy: \", accuracy_score(y_test, y_pred_stack))"
   ]
  },
  {
   "cell_type": "code",
   "execution_count": null,
   "id": "93e68bcf-e9cc-4a98-bf70-f2972d930ec9",
   "metadata": {},
   "outputs": [],
   "source": []
  }
 ],
 "metadata": {
  "kernelspec": {
   "display_name": "tfod310",
   "language": "python",
   "name": "tfod310"
  },
  "language_info": {
   "codemirror_mode": {
    "name": "ipython",
    "version": 3
   },
   "file_extension": ".py",
   "mimetype": "text/x-python",
   "name": "python",
   "nbconvert_exporter": "python",
   "pygments_lexer": "ipython3",
   "version": "3.10.16"
  }
 },
 "nbformat": 4,
 "nbformat_minor": 5
}
