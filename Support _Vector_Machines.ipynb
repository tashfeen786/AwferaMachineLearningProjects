{
 "cells": [
  {
   "cell_type": "code",
   "execution_count": 3,
   "id": "5f070410-d3cd-48b1-a4a4-2b3c72c74a74",
   "metadata": {},
   "outputs": [
    {
     "name": "stdout",
     "output_type": "stream",
     "text": [
      "Dataset Information\n",
      "<class 'pandas.core.frame.DataFrame'>\n",
      "RangeIndex: 768 entries, 0 to 767\n",
      "Data columns (total 9 columns):\n",
      " #   Column                    Non-Null Count  Dtype  \n",
      "---  ------                    --------------  -----  \n",
      " 0   Pregnancies               768 non-null    int64  \n",
      " 1   Glucose                   768 non-null    int64  \n",
      " 2   BloodPressure             768 non-null    int64  \n",
      " 3   SkinThickness             768 non-null    int64  \n",
      " 4   Insulin                   768 non-null    int64  \n",
      " 5   BMI                       768 non-null    float64\n",
      " 6   DiabetesPedigreeFunction  768 non-null    float64\n",
      " 7   Age                       768 non-null    int64  \n",
      " 8   Outcome                   768 non-null    int64  \n",
      "dtypes: float64(2), int64(7)\n",
      "memory usage: 54.1 KB\n",
      "None\n",
      "\n",
      "First 5 rows\n",
      "   Pregnancies  Glucose  BloodPressure  SkinThickness  Insulin   BMI  \\\n",
      "0            6      148             72             35        0  33.6   \n",
      "1            1       85             66             29        0  26.6   \n",
      "2            8      183             64              0        0  23.3   \n",
      "3            1       89             66             23       94  28.1   \n",
      "4            0      137             40             35      168  43.1   \n",
      "\n",
      "   DiabetesPedigreeFunction  Age  Outcome  \n",
      "0                     0.627   50        1  \n",
      "1                     0.351   31        0  \n",
      "2                     0.672   32        1  \n",
      "3                     0.167   21        0  \n",
      "4                     2.288   33        1  \n"
     ]
    }
   ],
   "source": [
    "# SVM for Diabetes Dataset\n",
    "#Step 1: Load the Dataset\n",
    "\n",
    "import pandas as pd\n",
    "from sklearn.preprocessing import StandardScaler\n",
    "from sklearn.model_selection import train_test_split\n",
    "\n",
    "from sklearn.metrics import accuracy_score, classification_report, confusion_matrix\n",
    "\n",
    "\n",
    "\n",
    "# Load the dataset \n",
    "\n",
    "file_path = \"F:\\\\AWFERA\\\\Machine learning\\\\AwferaMachineLearningProjects\\\\diabetes.csv\"\n",
    "df = pd.read_csv(file_path)\n",
    "\n",
    "# Display basic information\n",
    "print(\"Dataset Information\")\n",
    "print(df.info())\n",
    "print(\"\\nFirst 5 rows\")\n",
    "print(df.head())\n"
   ]
  },
  {
   "cell_type": "code",
   "execution_count": 4,
   "id": "9e7311d7-fbd1-41a9-8f31-f528d2d6c6f0",
   "metadata": {},
   "outputs": [
    {
     "name": "stdout",
     "output_type": "stream",
     "text": [
      "\n",
      "Checking for missing values:\n",
      "Pregnancies                 0\n",
      "Glucose                     0\n",
      "BloodPressure               0\n",
      "SkinThickness               0\n",
      "Insulin                     0\n",
      "BMI                         0\n",
      "DiabetesPedigreeFunction    0\n",
      "Age                         0\n",
      "Outcome                     0\n",
      "dtype: int64\n"
     ]
    }
   ],
   "source": [
    "#Step 2: Handle Missing Values\n",
    "print(\"\\nChecking for missing values:\")\n",
    "print(df.isnull().sum())\n",
    "\n",
    "#Fill missing numerical values with the median\n",
    "\n",
    "df.fillna(df.median(numeric_only = True), inplace=True)\n",
    "\n",
    "# Fill missing categorical values with the mode (if any)\n",
    "for col in df.select_dtypes(include = ['object']):\n",
    "    df[col].fillna(df[col].mode()[0], inplace = true)"
   ]
  },
  {
   "cell_type": "code",
   "execution_count": 5,
   "id": "deab3100-b006-44e8-b322-f2532ced0c2e",
   "metadata": {},
   "outputs": [
    {
     "name": "stdout",
     "output_type": "stream",
     "text": [
      "\n",
      "Training SVM Classifier................\n",
      "\n",
      "SVM Model Accuracy: {svm accuracy:.2f}\n",
      "\n",
      "SVM Classification Report:\n",
      "              precision    recall  f1-score   support\n",
      "\n",
      "           0       0.80      0.81      0.81       151\n",
      "           1       0.64      0.62      0.63        80\n",
      "\n",
      "    accuracy                           0.75       231\n",
      "   macro avg       0.72      0.72      0.72       231\n",
      "weighted avg       0.75      0.75      0.75       231\n",
      "\n",
      "\n",
      "SVM Confusion Matrix:\n",
      "[[123  28]\n",
      " [ 30  50]]\n"
     ]
    }
   ],
   "source": [
    "#Step 3: Prepare Data\n",
    "#Separate feature and target variable\n",
    "\n",
    "x= df.drop(columns = ['Outcome'])\n",
    "y = df['Outcome']\n",
    "\n",
    "# Step 4: Apply Standard Scaling\n",
    "scaler = StandardScaler()\n",
    "\n",
    "x_scaled = scaler.fit_transform(x)\n",
    "\n",
    "# Step 5: Split Data into Traning and Testing sets\n",
    "x_train, x_test, y_train, y_test = train_test_split(x_scaled, y, test_size = 0.3, random_state = 42)\n",
    "\n",
    "# Step 6: (Modified): Train a SVM Classifier\n",
    "from sklearn.svm import SVC\n",
    "\n",
    "print(\"\\nTraining SVM Classifier................\")\n",
    "svm_model = SVC(kernel = 'linear', random_state= 42)\n",
    "svm_model.fit(x_train, y_train)\n",
    "\n",
    "#Step 7: Model Evaluation for SVM\n",
    "\n",
    "y_pred_svm = svm_model.predict(x_test)\n",
    "\n",
    "# Calculate accuracy\n",
    "svm_accuracy = accuracy_score(y_test, y_pred_svm)\n",
    "print(\"\\nSVM Model Accuracy: {svm accuracy:.2f}\")\n",
    "\n",
    "# Classification Report\n",
    "print(\"\\nSVM Classification Report:\")\n",
    "print(classification_report(y_test, y_pred_svm))\n",
    "\n",
    "#Confusion Matrix\n",
    "print(\"\\nSVM Confusion Matrix:\")\n",
    "print(confusion_matrix(y_test, y_pred_svm))\n",
    "\n",
    "\n",
    "\n",
    "\n",
    "\n",
    "\n"
   ]
  },
  {
   "cell_type": "code",
   "execution_count": null,
   "id": "4df5d253-63fe-4af8-b16f-b8b8f769c982",
   "metadata": {},
   "outputs": [],
   "source": []
  }
 ],
 "metadata": {
  "kernelspec": {
   "display_name": "tfod310",
   "language": "python",
   "name": "tfod310"
  },
  "language_info": {
   "codemirror_mode": {
    "name": "ipython",
    "version": 3
   },
   "file_extension": ".py",
   "mimetype": "text/x-python",
   "name": "python",
   "nbconvert_exporter": "python",
   "pygments_lexer": "ipython3",
   "version": "3.10.16"
  }
 },
 "nbformat": 4,
 "nbformat_minor": 5
}
